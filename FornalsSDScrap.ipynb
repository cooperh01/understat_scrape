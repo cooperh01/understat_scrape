{
 "cells": [
  {
   "cell_type": "code",
   "execution_count": 1,
   "metadata": {},
   "outputs": [],
   "source": [
    "import requests\n",
    "from bs4 import BeautifulSoup\n",
    "import json\n",
    "import pandas as pd"
   ]
  },
  {
   "cell_type": "code",
   "execution_count": 2,
   "metadata": {},
   "outputs": [
    {
     "name": "stdin",
     "output_type": "stream",
     "text": [
      "Please enter player id: 2335\n"
     ]
    }
   ],
   "source": [
    "#Scrape a speific players shots\n",
    "base_url = 'https://understat.com/player/'\n",
    "player = str(input('Please enter player id:'))\n",
    "url = base_url + player"
   ]
  },
  {
   "cell_type": "code",
   "execution_count": 3,
   "metadata": {},
   "outputs": [
    {
     "data": {
      "text/plain": [
       "'https://understat.com/player/2335'"
      ]
     },
     "execution_count": 3,
     "metadata": {},
     "output_type": "execute_result"
    }
   ],
   "source": [
    "url"
   ]
  },
  {
   "cell_type": "code",
   "execution_count": 4,
   "metadata": {},
   "outputs": [],
   "source": [
    "#Parse the page\n",
    "res = requests.get(url)\n",
    "soup = BeautifulSoup(res.content,'lxml')\n",
    "scripts = soup.find_all('script')"
   ]
  },
  {
   "cell_type": "code",
   "execution_count": 5,
   "metadata": {},
   "outputs": [],
   "source": [
    "#get just the Shots Data\n",
    "strings = scripts[3].string"
   ]
  },
  {
   "cell_type": "code",
   "execution_count": 32,
   "metadata": {},
   "outputs": [],
   "source": [
    "# strip unnecessary symbols and get only JSON data \n",
    "ind_start = strings.index(\"('\")+2 \n",
    "ind_end = strings.index(\"')\") \n",
    "json_data = strings[ind_start:ind_end] \n",
    "json_data = json_data.encode('utf8').decode('unicode_escape')\n",
    "\n",
    "#convert string to json format\n",
    "data = json.loads(json_data)\n",
    "\n"
   ]
  },
  {
   "cell_type": "code",
   "execution_count": 38,
   "metadata": {},
   "outputs": [],
   "source": [
    "x = []\n",
    "y = []\n",
    "xG = []\n",
    "season = []\n",
    "result = []\n",
    "\n",
    "\n",
    "for index in range(len(data)):\n",
    "    for key in data[index]:\n",
    "        if key == 'X':\n",
    "            x.append(data[index][key])\n",
    "        if key == 'Y':\n",
    "            y.append(data[index][key])\n",
    "        if key == 'xG':\n",
    "            xG.append(data[index][key])\n",
    "        if key == 'season':\n",
    "            season.append(data[index][key])\n",
    "        if key == 'result':\n",
    "            result.append(data[index][key])"
   ]
  },
  {
   "cell_type": "code",
   "execution_count": 39,
   "metadata": {},
   "outputs": [],
   "source": [
    "col_names = ['x','y','xG','season','result']\n",
    "df = pd.DataFrame([x,y,xG,season,result],index=col_names)\n",
    "df = df.T"
   ]
  },
  {
   "cell_type": "code",
   "execution_count": 40,
   "metadata": {},
   "outputs": [
    {
     "data": {
      "text/html": [
       "<div>\n",
       "<style scoped>\n",
       "    .dataframe tbody tr th:only-of-type {\n",
       "        vertical-align: middle;\n",
       "    }\n",
       "\n",
       "    .dataframe tbody tr th {\n",
       "        vertical-align: top;\n",
       "    }\n",
       "\n",
       "    .dataframe thead th {\n",
       "        text-align: right;\n",
       "    }\n",
       "</style>\n",
       "<table border=\"1\" class=\"dataframe\">\n",
       "  <thead>\n",
       "    <tr style=\"text-align: right;\">\n",
       "      <th></th>\n",
       "      <th>x</th>\n",
       "      <th>y</th>\n",
       "      <th>xG</th>\n",
       "      <th>season</th>\n",
       "      <th>result</th>\n",
       "    </tr>\n",
       "  </thead>\n",
       "  <tbody>\n",
       "    <tr>\n",
       "      <th>0</th>\n",
       "      <td>0.9280000305175782</td>\n",
       "      <td>0.47200000762939454</td>\n",
       "      <td>0.1181882992386818</td>\n",
       "      <td>2015</td>\n",
       "      <td>SavedShot</td>\n",
       "    </tr>\n",
       "    <tr>\n",
       "      <th>1</th>\n",
       "      <td>0.805</td>\n",
       "      <td>0.5209999847412109</td>\n",
       "      <td>0.040537279099226</td>\n",
       "      <td>2015</td>\n",
       "      <td>MissedShots</td>\n",
       "    </tr>\n",
       "    <tr>\n",
       "      <th>2</th>\n",
       "      <td>0.7469999694824219</td>\n",
       "      <td>0.43099998474121093</td>\n",
       "      <td>0.01728629320859909</td>\n",
       "      <td>2015</td>\n",
       "      <td>MissedShots</td>\n",
       "    </tr>\n",
       "    <tr>\n",
       "      <th>3</th>\n",
       "      <td>0.750999984741211</td>\n",
       "      <td>0.49700000762939456</td>\n",
       "      <td>0.017903992906212807</td>\n",
       "      <td>2015</td>\n",
       "      <td>BlockedShot</td>\n",
       "    </tr>\n",
       "    <tr>\n",
       "      <th>4</th>\n",
       "      <td>0.7919999694824219</td>\n",
       "      <td>0.28899999618530275</td>\n",
       "      <td>0.02085723914206028</td>\n",
       "      <td>2015</td>\n",
       "      <td>MissedShots</td>\n",
       "    </tr>\n",
       "    <tr>\n",
       "      <th>...</th>\n",
       "      <td>...</td>\n",
       "      <td>...</td>\n",
       "      <td>...</td>\n",
       "      <td>...</td>\n",
       "      <td>...</td>\n",
       "    </tr>\n",
       "    <tr>\n",
       "      <th>227</th>\n",
       "      <td>0.7519999694824219</td>\n",
       "      <td>0.395</td>\n",
       "      <td>0.019412167370319366</td>\n",
       "      <td>2020</td>\n",
       "      <td>BlockedShot</td>\n",
       "    </tr>\n",
       "    <tr>\n",
       "      <th>228</th>\n",
       "      <td>0.784000015258789</td>\n",
       "      <td>0.68</td>\n",
       "      <td>0.016812490299344063</td>\n",
       "      <td>2020</td>\n",
       "      <td>SavedShot</td>\n",
       "    </tr>\n",
       "    <tr>\n",
       "      <th>229</th>\n",
       "      <td>0.8930000305175781</td>\n",
       "      <td>0.514000015258789</td>\n",
       "      <td>0.2698482275009155</td>\n",
       "      <td>2020</td>\n",
       "      <td>MissedShots</td>\n",
       "    </tr>\n",
       "    <tr>\n",
       "      <th>230</th>\n",
       "      <td>0.8109999847412109</td>\n",
       "      <td>0.4540000152587891</td>\n",
       "      <td>0.03465471416711807</td>\n",
       "      <td>2020</td>\n",
       "      <td>BlockedShot</td>\n",
       "    </tr>\n",
       "    <tr>\n",
       "      <th>231</th>\n",
       "      <td>0.899000015258789</td>\n",
       "      <td>0.5509999847412109</td>\n",
       "      <td>0.11431552469730377</td>\n",
       "      <td>2020</td>\n",
       "      <td>BlockedShot</td>\n",
       "    </tr>\n",
       "  </tbody>\n",
       "</table>\n",
       "<p>232 rows × 5 columns</p>\n",
       "</div>"
      ],
      "text/plain": [
       "                      x                    y                    xG season  \\\n",
       "0    0.9280000305175782  0.47200000762939454    0.1181882992386818   2015   \n",
       "1                 0.805   0.5209999847412109     0.040537279099226   2015   \n",
       "2    0.7469999694824219  0.43099998474121093   0.01728629320859909   2015   \n",
       "3     0.750999984741211  0.49700000762939456  0.017903992906212807   2015   \n",
       "4    0.7919999694824219  0.28899999618530275   0.02085723914206028   2015   \n",
       "..                  ...                  ...                   ...    ...   \n",
       "227  0.7519999694824219                0.395  0.019412167370319366   2020   \n",
       "228   0.784000015258789                 0.68  0.016812490299344063   2020   \n",
       "229  0.8930000305175781    0.514000015258789    0.2698482275009155   2020   \n",
       "230  0.8109999847412109   0.4540000152587891   0.03465471416711807   2020   \n",
       "231   0.899000015258789   0.5509999847412109   0.11431552469730377   2020   \n",
       "\n",
       "          result  \n",
       "0      SavedShot  \n",
       "1    MissedShots  \n",
       "2    MissedShots  \n",
       "3    BlockedShot  \n",
       "4    MissedShots  \n",
       "..           ...  \n",
       "227  BlockedShot  \n",
       "228    SavedShot  \n",
       "229  MissedShots  \n",
       "230  BlockedShot  \n",
       "231  BlockedShot  \n",
       "\n",
       "[232 rows x 5 columns]"
      ]
     },
     "execution_count": 40,
     "metadata": {},
     "output_type": "execute_result"
    }
   ],
   "source": [
    "df"
   ]
  },
  {
   "cell_type": "code",
   "execution_count": 43,
   "metadata": {},
   "outputs": [],
   "source": [
    "df.to_csv('FornalsShotData.csv')"
   ]
  }
 ],
 "metadata": {
  "kernelspec": {
   "display_name": "Python 3",
   "language": "python",
   "name": "python3"
  },
  "language_info": {
   "codemirror_mode": {
    "name": "ipython",
    "version": 3
   },
   "file_extension": ".py",
   "mimetype": "text/x-python",
   "name": "python",
   "nbconvert_exporter": "python",
   "pygments_lexer": "ipython3",
   "version": "3.7.6"
  }
 },
 "nbformat": 4,
 "nbformat_minor": 4
}
